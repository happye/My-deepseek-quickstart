{
 "cells": [
  {
   "cell_type": "markdown",
   "id": "20549885",
   "metadata": {},
   "source": [
    "# 使用 Milvus 和 DeepSeek 构建 RAG\n",
    "\n",
    "DeepSeek 帮助开发者使用高性能语言模型构建和扩展 AI 应用。它提供高效的推理、灵活的 API 以及先进的专家混合 (MoE) 架构，用于强大的推理和检索任务。\n",
    "\n",
    "在本教程中，我们将展示如何使用 Milvus 和 DeepSeek 构建一个检索增强生成 (RAG) 管道。"
   ]
  },
  {
   "cell_type": "markdown",
   "id": "7394c701",
   "metadata": {},
   "source": [
    "## 准备工作"
   ]
  },
  {
   "cell_type": "markdown",
   "id": "89103a1e",
   "metadata": {},
   "source": [
    "### 依赖与环境"
   ]
  },
  {
   "cell_type": "code",
   "execution_count": 1,
   "id": "9c18d7b4",
   "metadata": {
    "tags": []
   },
   "outputs": [
    {
     "name": "stdout",
     "output_type": "stream",
     "text": [
      "Looking in indexes: http://mirrors.aliyun.com/pypi/simple/"
     ]
    },
    {
     "name": "stderr",
     "output_type": "stream",
     "text": [
      "\n",
      "[notice] A new release of pip available: 22.2.2 -> 25.1.1\n",
      "[notice] To update, run: python.exe -m pip install --upgrade pip\n"
     ]
    },
    {
     "name": "stdout",
     "output_type": "stream",
     "text": [
      "\n",
      "Requirement already satisfied: pymilvus[model]==2.5.10 in c:\\users\\crux\\deepseek_quickstart\\lib\\site-packages (2.5.10)\n",
      "Requirement already satisfied: openai==1.82.0 in c:\\users\\crux\\deepseek_quickstart\\lib\\site-packages (1.82.0)\n",
      "Requirement already satisfied: requests==2.32.3 in c:\\users\\crux\\deepseek_quickstart\\lib\\site-packages (2.32.3)\n",
      "Requirement already satisfied: tqdm==4.67.1 in c:\\users\\crux\\deepseek_quickstart\\lib\\site-packages (4.67.1)\n",
      "Requirement already satisfied: torch==2.7.0 in c:\\users\\crux\\deepseek_quickstart\\lib\\site-packages (2.7.0)\n",
      "Requirement already satisfied: pandas>=1.2.4 in c:\\users\\crux\\deepseek_quickstart\\lib\\site-packages (from pymilvus[model]==2.5.10) (2.3.0)\n",
      "Requirement already satisfied: grpcio<=1.67.1,>=1.49.1 in c:\\users\\crux\\deepseek_quickstart\\lib\\site-packages (from pymilvus[model]==2.5.10) (1.67.1)\n",
      "Requirement already satisfied: protobuf>=3.20.0 in c:\\users\\crux\\deepseek_quickstart\\lib\\site-packages (from pymilvus[model]==2.5.10) (6.31.1)\n",
      "Requirement already satisfied: setuptools>69 in c:\\users\\crux\\deepseek_quickstart\\lib\\site-packages (from pymilvus[model]==2.5.10) (80.9.0)\n",
      "Requirement already satisfied: ujson>=2.0.0 in c:\\users\\crux\\deepseek_quickstart\\lib\\site-packages (from pymilvus[model]==2.5.10) (5.10.0)\n",
      "Requirement already satisfied: python-dotenv<2.0.0,>=1.0.1 in c:\\users\\crux\\deepseek_quickstart\\lib\\site-packages (from pymilvus[model]==2.5.10) (1.1.0)\n",
      "Requirement already satisfied: pymilvus.model>=0.3.0 in c:\\users\\crux\\deepseek_quickstart\\lib\\site-packages (from pymilvus[model]==2.5.10) (0.3.2)\n",
      "Requirement already satisfied: anyio<5,>=3.5.0 in c:\\users\\crux\\deepseek_quickstart\\lib\\site-packages (from openai==1.82.0) (4.9.0)\n",
      "Requirement already satisfied: jiter<1,>=0.4.0 in c:\\users\\crux\\deepseek_quickstart\\lib\\site-packages (from openai==1.82.0) (0.10.0)\n",
      "Requirement already satisfied: typing-extensions<5,>=4.11 in c:\\users\\crux\\deepseek_quickstart\\lib\\site-packages (from openai==1.82.0) (4.14.0)\n",
      "Requirement already satisfied: sniffio in c:\\users\\crux\\deepseek_quickstart\\lib\\site-packages (from openai==1.82.0) (1.3.1)\n",
      "Requirement already satisfied: pydantic<3,>=1.9.0 in c:\\users\\crux\\deepseek_quickstart\\lib\\site-packages (from openai==1.82.0) (2.11.5)\n",
      "Requirement already satisfied: httpx<1,>=0.23.0 in c:\\users\\crux\\deepseek_quickstart\\lib\\site-packages (from openai==1.82.0) (0.28.1)\n",
      "Requirement already satisfied: distro<2,>=1.7.0 in c:\\users\\crux\\deepseek_quickstart\\lib\\site-packages (from openai==1.82.0) (1.9.0)\n",
      "Requirement already satisfied: certifi>=2017.4.17 in c:\\users\\crux\\deepseek_quickstart\\lib\\site-packages (from requests==2.32.3) (2025.4.26)\n",
      "Requirement already satisfied: urllib3<3,>=1.21.1 in c:\\users\\crux\\deepseek_quickstart\\lib\\site-packages (from requests==2.32.3) (2.4.0)\n",
      "Requirement already satisfied: idna<4,>=2.5 in c:\\users\\crux\\deepseek_quickstart\\lib\\site-packages (from requests==2.32.3) (3.10)\n",
      "Requirement already satisfied: charset-normalizer<4,>=2 in c:\\users\\crux\\deepseek_quickstart\\lib\\site-packages (from requests==2.32.3) (3.4.2)\n",
      "Requirement already satisfied: colorama in c:\\users\\crux\\deepseek_quickstart\\lib\\site-packages (from tqdm==4.67.1) (0.4.6)\n",
      "Requirement already satisfied: jinja2 in c:\\users\\crux\\deepseek_quickstart\\lib\\site-packages (from torch==2.7.0) (3.1.6)\n",
      "Requirement already satisfied: networkx in c:\\users\\crux\\deepseek_quickstart\\lib\\site-packages (from torch==2.7.0) (3.4.2)\n",
      "Requirement already satisfied: fsspec in c:\\users\\crux\\deepseek_quickstart\\lib\\site-packages (from torch==2.7.0) (2025.5.1)\n",
      "Requirement already satisfied: filelock in c:\\users\\crux\\deepseek_quickstart\\lib\\site-packages (from torch==2.7.0) (3.18.0)\n",
      "Requirement already satisfied: sympy>=1.13.3 in c:\\users\\crux\\deepseek_quickstart\\lib\\site-packages (from torch==2.7.0) (1.14.0)\n",
      "Requirement already satisfied: exceptiongroup>=1.0.2 in c:\\users\\crux\\deepseek_quickstart\\lib\\site-packages (from anyio<5,>=3.5.0->openai==1.82.0) (1.3.0)\n",
      "Requirement already satisfied: httpcore==1.* in c:\\users\\crux\\deepseek_quickstart\\lib\\site-packages (from httpx<1,>=0.23.0->openai==1.82.0) (1.0.9)\n",
      "Requirement already satisfied: h11>=0.16 in c:\\users\\crux\\deepseek_quickstart\\lib\\site-packages (from httpcore==1.*->httpx<1,>=0.23.0->openai==1.82.0) (0.16.0)\n",
      "Requirement already satisfied: python-dateutil>=2.8.2 in c:\\users\\crux\\deepseek_quickstart\\lib\\site-packages (from pandas>=1.2.4->pymilvus[model]==2.5.10) (2.9.0.post0)\n",
      "Requirement already satisfied: tzdata>=2022.7 in c:\\users\\crux\\deepseek_quickstart\\lib\\site-packages (from pandas>=1.2.4->pymilvus[model]==2.5.10) (2025.2)\n",
      "Requirement already satisfied: pytz>=2020.1 in c:\\users\\crux\\deepseek_quickstart\\lib\\site-packages (from pandas>=1.2.4->pymilvus[model]==2.5.10) (2025.2)\n",
      "Requirement already satisfied: numpy>=1.22.4 in c:\\users\\crux\\deepseek_quickstart\\lib\\site-packages (from pandas>=1.2.4->pymilvus[model]==2.5.10) (2.2.6)\n",
      "Requirement already satisfied: annotated-types>=0.6.0 in c:\\users\\crux\\deepseek_quickstart\\lib\\site-packages (from pydantic<3,>=1.9.0->openai==1.82.0) (0.7.0)\n",
      "Requirement already satisfied: typing-inspection>=0.4.0 in c:\\users\\crux\\deepseek_quickstart\\lib\\site-packages (from pydantic<3,>=1.9.0->openai==1.82.0) (0.4.1)\n",
      "Requirement already satisfied: pydantic-core==2.33.2 in c:\\users\\crux\\deepseek_quickstart\\lib\\site-packages (from pydantic<3,>=1.9.0->openai==1.82.0) (2.33.2)\n",
      "Requirement already satisfied: onnxruntime in c:\\users\\crux\\deepseek_quickstart\\lib\\site-packages (from pymilvus.model>=0.3.0->pymilvus[model]==2.5.10) (1.22.0)\n",
      "Requirement already satisfied: transformers>=4.36.0 in c:\\users\\crux\\deepseek_quickstart\\lib\\site-packages (from pymilvus.model>=0.3.0->pymilvus[model]==2.5.10) (4.52.4)\n",
      "Requirement already satisfied: scipy>=1.10.0 in c:\\users\\crux\\deepseek_quickstart\\lib\\site-packages (from pymilvus.model>=0.3.0->pymilvus[model]==2.5.10) (1.15.3)\n",
      "Requirement already satisfied: mpmath<1.4,>=1.1.0 in c:\\users\\crux\\deepseek_quickstart\\lib\\site-packages (from sympy>=1.13.3->torch==2.7.0) (1.3.0)\n",
      "Requirement already satisfied: MarkupSafe>=2.0 in c:\\users\\crux\\deepseek_quickstart\\lib\\site-packages (from jinja2->torch==2.7.0) (3.0.2)\n",
      "Requirement already satisfied: six>=1.5 in c:\\users\\crux\\deepseek_quickstart\\lib\\site-packages (from python-dateutil>=2.8.2->pandas>=1.2.4->pymilvus[model]==2.5.10) (1.17.0)\n",
      "Requirement already satisfied: pyyaml>=5.1 in c:\\users\\crux\\deepseek_quickstart\\lib\\site-packages (from transformers>=4.36.0->pymilvus.model>=0.3.0->pymilvus[model]==2.5.10) (6.0.2)\n",
      "Requirement already satisfied: tokenizers<0.22,>=0.21 in c:\\users\\crux\\deepseek_quickstart\\lib\\site-packages (from transformers>=4.36.0->pymilvus.model>=0.3.0->pymilvus[model]==2.5.10) (0.21.1)\n",
      "Requirement already satisfied: packaging>=20.0 in c:\\users\\crux\\deepseek_quickstart\\lib\\site-packages (from transformers>=4.36.0->pymilvus.model>=0.3.0->pymilvus[model]==2.5.10) (25.0)\n",
      "Requirement already satisfied: huggingface-hub<1.0,>=0.30.0 in c:\\users\\crux\\deepseek_quickstart\\lib\\site-packages (from transformers>=4.36.0->pymilvus.model>=0.3.0->pymilvus[model]==2.5.10) (0.32.6)\n",
      "Requirement already satisfied: regex!=2019.12.17 in c:\\users\\crux\\deepseek_quickstart\\lib\\site-packages (from transformers>=4.36.0->pymilvus.model>=0.3.0->pymilvus[model]==2.5.10) (2024.11.6)\n",
      "Requirement already satisfied: safetensors>=0.4.3 in c:\\users\\crux\\deepseek_quickstart\\lib\\site-packages (from transformers>=4.36.0->pymilvus.model>=0.3.0->pymilvus[model]==2.5.10) (0.5.3)\n",
      "Requirement already satisfied: flatbuffers in c:\\users\\crux\\deepseek_quickstart\\lib\\site-packages (from onnxruntime->pymilvus.model>=0.3.0->pymilvus[model]==2.5.10) (25.2.10)\n",
      "Requirement already satisfied: coloredlogs in c:\\users\\crux\\deepseek_quickstart\\lib\\site-packages (from onnxruntime->pymilvus.model>=0.3.0->pymilvus[model]==2.5.10) (15.0.1)\n",
      "Requirement already satisfied: humanfriendly>=9.1 in c:\\users\\crux\\deepseek_quickstart\\lib\\site-packages (from coloredlogs->onnxruntime->pymilvus.model>=0.3.0->pymilvus[model]==2.5.10) (10.0)\n",
      "Requirement already satisfied: pyreadline3 in c:\\users\\crux\\deepseek_quickstart\\lib\\site-packages (from humanfriendly>=9.1->coloredlogs->onnxruntime->pymilvus.model>=0.3.0->pymilvus[model]==2.5.10) (3.5.4)\n"
     ]
    }
   ],
   "source": [
    "!pip install \"pymilvus[model]==2.5.10\" openai==1.82.0 requests==2.32.3 tqdm==4.67.1 torch==2.7.0"
   ]
  },
  {
   "cell_type": "markdown",
   "id": "1b3c0999-d670-41a9-afbd-d8a020fe1631",
   "metadata": {},
   "source": [
    "---"
   ]
  },
  {
   "cell_type": "code",
   "execution_count": 2,
   "id": "375ad823",
   "metadata": {
    "tags": []
   },
   "outputs": [],
   "source": [
    "import os\n",
    "\n",
    "# 从环境变量获取 DeepSeek API Key\n",
    "api_key = os.getenv(\"DEEPSEEK_API_KEY\")"
   ]
  },
  {
   "cell_type": "markdown",
   "id": "db44bb26",
   "metadata": {},
   "source": [
    "### 准备数据"
   ]
  },
  {
   "cell_type": "markdown",
   "id": "25f92a95",
   "metadata": {},
   "source": [
    "我们使用 Milvus 文档 2.4.x 中的 FAQ 页面作为我们 RAG 中的私有知识库，这是一个简单 RAG 管道的良好数据源。"
   ]
  },
  {
   "cell_type": "markdown",
   "id": "a1a8b9e2",
   "metadata": {},
   "source": [
    "下载 zip 文件并将文档解压到 `milvus_docs` 文件夹。\n",
    "\n",
    "**建议在命令行执行下面命令**"
   ]
  },
  {
   "cell_type": "code",
   "execution_count": 3,
   "id": "a81fa031",
   "metadata": {},
   "outputs": [],
   "source": [
    "#!wget https://github.com/milvus-io/milvus-docs/releases/download/v2.4.6-preview/milvus_docs_2.4.x_en.zip\n",
    "#!unzip -q milvus_docs_2.4.x_en.zip -d milvus_docs"
   ]
  },
  {
   "cell_type": "markdown",
   "id": "d1198466",
   "metadata": {},
   "source": [
    "我们从 `milvus_docs/en/faq` 文件夹加载所有 markdown 文件。对于每个文档，我们简单地使用 \"# \" 来分割文件中的内容，这样可以大致分离出 markdown 文件中每个主要部分的内容。"
   ]
  },
  {
   "cell_type": "code",
   "execution_count": 4,
   "id": "c9035a5f",
   "metadata": {
    "tags": []
   },
   "outputs": [],
   "source": [
    "from glob import glob\n",
    "\n",
    "text_lines = []\n",
    "\n",
    "for file_path in glob(\"milvus_docs/en/faq/*.md\", recursive=True):\n",
    "    with open(file_path, \"r\") as file:\n",
    "        file_text = file.read()\n",
    "\n",
    "    text_lines += file_text.split(\"# \")"
   ]
  },
  {
   "cell_type": "code",
   "execution_count": 5,
   "id": "01b73e74-ee7d-4daf-b7db-1c7a10bfc0bf",
   "metadata": {
    "tags": []
   },
   "outputs": [
    {
     "data": {
      "text/plain": [
       "72"
      ]
     },
     "execution_count": 5,
     "metadata": {},
     "output_type": "execute_result"
    }
   ],
   "source": [
    "len(text_lines)"
   ]
  },
  {
   "cell_type": "markdown",
   "id": "4cc2a0b8",
   "metadata": {},
   "source": [
    "### 准备 LLM 和 Embedding 模型"
   ]
  },
  {
   "cell_type": "markdown",
   "id": "19eaff7a",
   "metadata": {},
   "source": [
    "DeepSeek 支持 OpenAI 风格的 API，您可以使用相同的 API 进行微小调整来调用 LLM。"
   ]
  },
  {
   "cell_type": "code",
   "execution_count": 6,
   "id": "b994eb47",
   "metadata": {
    "tags": []
   },
   "outputs": [],
   "source": [
    "from openai import OpenAI\n",
    "\n",
    "deepseek_client = OpenAI(\n",
    "    api_key=api_key,\n",
    "    base_url=\"https://api.deepseek.com/v1\",  # DeepSeek API 的基地址\n",
    ")"
   ]
  },
  {
   "cell_type": "markdown",
   "id": "1cc5a5e2",
   "metadata": {},
   "source": [
    "定义一个 embedding 模型，使用 `milvus_model` 来生成文本嵌入。我们以 `DefaultEmbeddingFunction` 模型为例，这是一个预训练的轻量级嵌入模型。"
   ]
  },
  {
   "cell_type": "code",
   "execution_count": 7,
   "id": "3a94242a",
   "metadata": {
    "tags": []
   },
   "outputs": [
    {
     "name": "stderr",
     "output_type": "stream",
     "text": [
      "C:\\Users\\Crux\\deepseek_quickstart\\lib\\site-packages\\tqdm\\auto.py:21: TqdmWarning: IProgress not found. Please update jupyter and ipywidgets. See https://ipywidgets.readthedocs.io/en/stable/user_install.html\n",
      "  from .autonotebook import tqdm as notebook_tqdm\n"
     ]
    }
   ],
   "source": [
    "from pymilvus import model as milvus_model\n",
    "\n",
    "embedding_model = milvus_model.DefaultEmbeddingFunction()"
   ]
  },
  {
   "cell_type": "markdown",
   "id": "93fb1696",
   "metadata": {},
   "source": [
    "生成一个测试嵌入并打印其维度和前几个元素。"
   ]
  },
  {
   "cell_type": "code",
   "execution_count": 8,
   "id": "88a27567",
   "metadata": {
    "tags": []
   },
   "outputs": [
    {
     "name": "stdout",
     "output_type": "stream",
     "text": [
      "768\n",
      "[-0.04836059  0.07163021 -0.01130063 -0.03789341 -0.03320651 -0.01318453\n",
      " -0.03041721 -0.02269495 -0.02317858 -0.00426026]\n"
     ]
    }
   ],
   "source": [
    "test_embedding = embedding_model.encode_queries([\"This is a test\"])[0]\n",
    "embedding_dim = len(test_embedding)\n",
    "print(embedding_dim)\n",
    "print(test_embedding[:10])"
   ]
  },
  {
   "cell_type": "code",
   "execution_count": 9,
   "id": "f7683f3a-d9e4-4c8e-9a66-c341911bef6b",
   "metadata": {
    "tags": []
   },
   "outputs": [
    {
     "name": "stdout",
     "output_type": "stream",
     "text": [
      "[-0.02752976  0.0608853   0.00388525 -0.00215193 -0.02774976 -0.0118618\n",
      " -0.04020916 -0.06023417 -0.03813156  0.0100272 ]\n"
     ]
    }
   ],
   "source": [
    "test_embedding_0 = embedding_model.encode_queries([\"That is a test\"])[0]\n",
    "print(test_embedding_0[:10])"
   ]
  },
  {
   "cell_type": "markdown",
   "id": "5a778887",
   "metadata": {},
   "source": [
    "## 将数据加载到 Milvus"
   ]
  },
  {
   "cell_type": "markdown",
   "id": "02b23a24",
   "metadata": {},
   "source": [
    "### 创建 Collection"
   ]
  },
  {
   "cell_type": "code",
   "execution_count": 13,
   "id": "b0301e96-a157-4917-b0c9-66854616d1b1",
   "metadata": {
    "tags": []
   },
   "outputs": [
    {
     "name": "stdout",
     "output_type": "stream",
     "text": [
      "📦 PyMilvus版本: 2.5.10\n",
      "🔍 开始测试Milvus连接...\n",
      "🔄 断开旧连接\n",
      "🔗 正在连接Milvus服务器...\n",
      "✅ 连接命令执行成功\n",
      "✅ 连接验证成功！当前集合数量: 0\n",
      "\n",
      "🎉 Milvus连接成功！现在可以创建和使用集合了\n",
      "🔨 正在创建集合 'my_rag_collection'...\n",
      "✅ 集合 'my_rag_collection' 创建成功\n",
      "📊 集合schema: {'auto_id': False, 'description': 'RAG collection for document search', 'fields': [{'name': 'id', 'description': '', 'type': <DataType.INT64: 5>, 'is_primary': True, 'auto_id': False}, {'name': 'vector', 'description': '', 'type': <DataType.FLOAT_VECTOR: 101>, 'params': {'dim': 768}}, {'name': 'text', 'description': '', 'type': <DataType.VARCHAR: 21>, 'params': {'max_length': 65535}}], 'enable_dynamic_field': False}\n",
      "\n",
      "🎯 集合 'my_rag_collection' 准备就绪，可以开始插入数据！\n",
      "\n",
      "💡 数据插入示例：\n",
      "\n",
      "# 示例数据格式\n",
      "data = [\n",
      "    {\"id\": 1, \"vector\": [0.1] * 768, \"text\": \"文档内容1\"},\n",
      "    {\"id\": 2, \"vector\": [0.2] * 768, \"text\": \"文档内容2\"}\n",
      "]\n",
      "\n",
      "# 插入数据\n",
      "collection.insert(data)\n",
      "collection.flush()  # 确保数据持久化\n",
      "\n",
      "# 创建索引（用于搜索）\n",
      "index_params = {\n",
      "    \"metric_type\": \"IP\",\n",
      "    \"index_type\": \"IVF_FLAT\",\n",
      "    \"params\": {\"nlist\": 128}\n",
      "}\n",
      "collection.create_index(\"vector\", index_params)\n",
      "\n",
      "# 加载集合到内存\n",
      "collection.load()\n",
      "        \n"
     ]
    }
   ],
   "source": [
    "from pymilvus import connections, utility\n",
    "import pymilvus\n",
    "\n",
    "def test_milvus_connection_fixed():\n",
    "    \"\"\"修复版本兼容性问题的连接测试\"\"\"\n",
    "    \n",
    "    print(f\"📦 PyMilvus版本: {pymilvus.__version__}\")\n",
    "    print(\"🔍 开始测试Milvus连接...\")\n",
    "    \n",
    "    try:\n",
    "        # 先断开可能存在的连接\n",
    "        try:\n",
    "            connections.disconnect(\"default\")\n",
    "            print(\"🔄 断开旧连接\")\n",
    "        except:\n",
    "            pass\n",
    "        \n",
    "        # 尝试连接\n",
    "        print(\"🔗 正在连接Milvus服务器...\")\n",
    "        connections.connect(\n",
    "            alias=\"default\",\n",
    "            host=\"localhost\",\n",
    "            port=\"19530\",\n",
    "            timeout=10\n",
    "        )\n",
    "        \n",
    "        print(\"✅ 连接命令执行成功\")\n",
    "        \n",
    "        # 测试连接是否真正有效 - 尝试执行一个简单操作\n",
    "        try:\n",
    "            collections = utility.list_collections()\n",
    "            print(f\"✅ 连接验证成功！当前集合数量: {len(collections)}\")\n",
    "            if collections:\n",
    "                print(f\"📋 现有集合: {collections}\")\n",
    "            return True\n",
    "            \n",
    "        except Exception as e:\n",
    "            print(f\"❌ 连接验证失败: {e}\")\n",
    "            return False\n",
    "            \n",
    "    except Exception as e:\n",
    "        print(f\"❌ 连接失败: {e}\")\n",
    "        return False\n",
    "\n",
    "# 测试连接\n",
    "success = test_milvus_connection_fixed()\n",
    "\n",
    "if success:\n",
    "    print(\"\\n🎉 Milvus连接成功！现在可以创建和使用集合了\")\n",
    "    \n",
    "    # 创建集合的示例代码\n",
    "    def create_rag_collection():\n",
    "        \"\"\"创建RAG集合\"\"\"\n",
    "        try:\n",
    "            from pymilvus import Collection, FieldSchema, CollectionSchema, DataType\n",
    "            \n",
    "            collection_name = \"my_rag_collection\"\n",
    "            \n",
    "            # 检查集合是否已存在\n",
    "            existing_collections = utility.list_collections()\n",
    "            if collection_name in existing_collections:\n",
    "                print(f\"✅ 集合 '{collection_name}' 已存在\")\n",
    "                collection = Collection(collection_name)\n",
    "                print(f\"📊 集合信息: {collection.schema}\")\n",
    "                return collection\n",
    "            \n",
    "            # 创建新集合\n",
    "            print(f\"🔨 正在创建集合 '{collection_name}'...\")\n",
    "            \n",
    "            # 定义字段\n",
    "            fields = [\n",
    "                FieldSchema(name=\"id\", dtype=DataType.INT64, is_primary=True, auto_id=False),\n",
    "                FieldSchema(name=\"vector\", dtype=DataType.FLOAT_VECTOR, dim=768),\n",
    "                FieldSchema(name=\"text\", dtype=DataType.VARCHAR, max_length=65535)\n",
    "            ]\n",
    "            \n",
    "            # 创建集合schema\n",
    "            schema = CollectionSchema(fields, \"RAG collection for document search\")\n",
    "            \n",
    "            # 创建集合\n",
    "            collection = Collection(collection_name, schema)\n",
    "            \n",
    "            print(f\"✅ 集合 '{collection_name}' 创建成功\")\n",
    "            print(f\"📊 集合schema: {collection.schema}\")\n",
    "            \n",
    "            return collection\n",
    "            \n",
    "        except Exception as e:\n",
    "            print(f\"❌ 创建集合失败: {e}\")\n",
    "            return None\n",
    "    \n",
    "    # 创建集合\n",
    "    collection = create_rag_collection()\n",
    "    \n",
    "    if collection:\n",
    "        print(f\"\\n🎯 集合 '{collection.name}' 准备就绪，可以开始插入数据！\")\n",
    "        \n",
    "        # 简单的数据插入示例\n",
    "        print(\"\\n💡 数据插入示例：\")\n",
    "        print(\"\"\"\n",
    "# 示例数据格式\n",
    "data = [\n",
    "    {\"id\": 1, \"vector\": [0.1] * 768, \"text\": \"文档内容1\"},\n",
    "    {\"id\": 2, \"vector\": [0.2] * 768, \"text\": \"文档内容2\"}\n",
    "]\n",
    "\n",
    "# 插入数据\n",
    "collection.insert(data)\n",
    "collection.flush()  # 确保数据持久化\n",
    "\n",
    "# 创建索引（用于搜索）\n",
    "index_params = {\n",
    "    \"metric_type\": \"IP\",\n",
    "    \"index_type\": \"IVF_FLAT\",\n",
    "    \"params\": {\"nlist\": 128}\n",
    "}\n",
    "collection.create_index(\"vector\", index_params)\n",
    "\n",
    "# 加载集合到内存\n",
    "collection.load()\n",
    "        \"\"\")\n",
    "\n",
    "else:\n",
    "    print(\"\\n❌ 连接失败，请检查：\")\n",
    "    print(\"1. Docker容器是否正常运行: docker-compose ps\")\n",
    "    print(\"2. Milvus日志: docker-compose logs milvus\")\n",
    "    print(\"3. 端口是否正确监听: netstat -ano | findstr :19530\")"
   ]
  },
  {
   "cell_type": "code",
   "execution_count": 24,
   "id": "95e84b8c",
   "metadata": {
    "tags": []
   },
   "outputs": [],
   "source": [
    "# milvus_lite不支持windows，改用docker部署Milvus\n",
    "# from pymilvus import MilvusClient\n",
    "\n",
    "# milvus_client = MilvusClient(uri=\"./milvus_demo.db\")\n",
    "\n",
    "# collection_name = \"my_rag_collection\"\n",
    "\n",
    "from pymilvus import MilvusClient\n",
    "\n",
    "# 修改为连接你的 Docker Milvus 服务\n",
    "milvus_client = MilvusClient(uri=\"http://localhost:19530\")\n",
    "\n",
    "collection_name = \"my_rag_collection\""
   ]
  },
  {
   "cell_type": "markdown",
   "id": "68648561",
   "metadata": {},
   "source": [
    "关于 `MilvusClient` 的参数：\n",
    "\n",
    "*   将 `uri` 设置为本地文件，例如 `./milvus.db`，是最方便的方法，因为它会自动利用 Milvus Lite 将所有数据存储在此文件中。\n",
    "*   如果您有大规模数据，可以在 Docker 或 Kubernetes 上设置性能更高的 Milvus 服务器。在此设置中，请使用服务器 URI，例如 `http://localhost:19530`，作为您的 `uri`。\n",
    "*   如果您想使用 Zilliz Cloud（Milvus 的完全托管云服务），请调整 `uri` 和 `token`，它们对应 Zilliz Cloud 中的 Public Endpoint 和 Api key。"
   ]
  },
  {
   "cell_type": "markdown",
   "id": "5ce1bf3e",
   "metadata": {},
   "source": [
    "检查 collection 是否已存在，如果存在则删除它。"
   ]
  },
  {
   "cell_type": "code",
   "execution_count": 25,
   "id": "aee85c08",
   "metadata": {
    "tags": []
   },
   "outputs": [],
   "source": [
    "if milvus_client.has_collection(collection_name):\n",
    "    milvus_client.drop_collection(collection_name)"
   ]
  },
  {
   "cell_type": "markdown",
   "id": "73eb379f",
   "metadata": {},
   "source": [
    "创建一个具有指定参数的新 collection。\n",
    "\n",
    "如果我们不指定任何字段信息，Milvus 将自动创建一个默认的 `id` 字段作为主键，以及一个 `vector` 字段来存储向量数据。一个保留的 JSON 字段用于存储非 schema 定义的字段及其值。\n",
    "\n",
    "`metric_type` (距离度量类型):\n",
    "     作用：定义如何计算向量之间的相似程度。\n",
    "     例如：`IP` (内积) - 值越大通常越相似；`L2` (欧氏距离) - 值越小越相似；`COSINE` (余弦相似度) - 通常转换为距离，值越小越相似。\n",
    "     选择依据：根据你的嵌入模型的特性和期望的相似性定义来选择。\n",
    "\n",
    " `consistency_level` (一致性级别):\n",
    "     作用：定义数据写入后，读取操作能多快看到这些新数据。\n",
    "     例如：\n",
    "         `Strong` (强一致性): 总是读到最新数据，可能稍慢。\n",
    "         `Bounded` (有界过期): 可能读到几秒内旧数据，性能较好 (默认)。\n",
    "         `Session` (会话一致性): 自己写入的自己能立刻读到。\n",
    "         `Eventually` (最终一致性): 最终会读到新数据，但没时间保证，性能最好。\n",
    "     选择依据：在数据实时性要求和系统性能之间做权衡。\n",
    "\n",
    "简单来说：\n",
    " `metric_type`：怎么算相似。\n",
    " `consistency_level`：新数据多久能被读到。"
   ]
  },
  {
   "cell_type": "code",
   "execution_count": 26,
   "id": "bd0b2df8",
   "metadata": {
    "tags": []
   },
   "outputs": [],
   "source": [
    "milvus_client.create_collection(\n",
    "    collection_name=collection_name,\n",
    "    dimension=embedding_dim,\n",
    "    metric_type=\"IP\",  # 内积距离\n",
    "    consistency_level=\"Strong\",  # 支持的值为 (`\"Strong\"`, `\"Session\"`, `\"Bounded\"`, `\"Eventually\"`)。更多详情请参见 https://milvus.io/docs/consistency.md#Consistency-Level。\n",
    ")"
   ]
  },
  {
   "cell_type": "markdown",
   "id": "9c15bafb",
   "metadata": {},
   "source": [
    "### 插入数据"
   ]
  },
  {
   "cell_type": "markdown",
   "id": "171d3b35",
   "metadata": {},
   "source": [
    "遍历文本行，创建嵌入，然后将数据插入 Milvus。\n",
    "\n",
    "这里有一个新字段 `text`，它是在 collection schema 中未定义的字段。它将自动添加到保留的 JSON 动态字段中，该字段在高级别上可以被视为普通字段。"
   ]
  },
  {
   "cell_type": "code",
   "execution_count": 27,
   "id": "ad077094",
   "metadata": {
    "tags": []
   },
   "outputs": [
    {
     "name": "stderr",
     "output_type": "stream",
     "text": [
      "Creating embeddings: 100%|█████████████████████████████████████████████████████████████████████| 72/72 [00:00<?, ?it/s]\n"
     ]
    },
    {
     "data": {
      "text/plain": [
       "{'insert_count': 72, 'ids': [0, 1, 2, 3, 4, 5, 6, 7, 8, 9, 10, 11, 12, 13, 14, 15, 16, 17, 18, 19, 20, 21, 22, 23, 24, 25, 26, 27, 28, 29, 30, 31, 32, 33, 34, 35, 36, 37, 38, 39, 40, 41, 42, 43, 44, 45, 46, 47, 48, 49, 50, 51, 52, 53, 54, 55, 56, 57, 58, 59, 60, 61, 62, 63, 64, 65, 66, 67, 68, 69, 70, 71], 'cost': 0}"
      ]
     },
     "execution_count": 27,
     "metadata": {},
     "output_type": "execute_result"
    }
   ],
   "source": [
    "from tqdm import tqdm\n",
    "\n",
    "data = []\n",
    "\n",
    "doc_embeddings = embedding_model.encode_documents(text_lines)\n",
    "\n",
    "for i, line in enumerate(tqdm(text_lines, desc=\"Creating embeddings\")):\n",
    "    data.append({\"id\": i, \"vector\": doc_embeddings[i], \"text\": line})\n",
    "\n",
    "milvus_client.insert(collection_name=collection_name, data=data)"
   ]
  },
  {
   "cell_type": "markdown",
   "id": "bd971f6b",
   "metadata": {},
   "source": [
    "## 构建 RAG"
   ]
  },
  {
   "cell_type": "markdown",
   "id": "534dc076",
   "metadata": {},
   "source": [
    "### 检索查询数据"
   ]
  },
  {
   "cell_type": "markdown",
   "id": "5a6fd7e7",
   "metadata": {},
   "source": [
    "我们指定一个关于 Milvus 的常见问题。"
   ]
  },
  {
   "cell_type": "code",
   "execution_count": 28,
   "id": "6e2f5c6a",
   "metadata": {
    "tags": []
   },
   "outputs": [],
   "source": [
    "question = \"How is data stored in milvus?\""
   ]
  },
  {
   "cell_type": "markdown",
   "id": "52401a38",
   "metadata": {},
   "source": [
    "在 collection 中搜索该问题，并检索语义上最匹配的前3个结果。"
   ]
  },
  {
   "cell_type": "code",
   "execution_count": 29,
   "id": "0dd4cbac",
   "metadata": {
    "tags": []
   },
   "outputs": [],
   "source": [
    "search_res = milvus_client.search(\n",
    "    collection_name=collection_name,\n",
    "    data=embedding_model.encode_queries(\n",
    "        [question]\n",
    "    ),  # 将问题转换为嵌入向量\n",
    "    limit=3,  # 返回前3个结果\n",
    "    search_params={\"metric_type\": \"IP\", \"params\": {}},  # 内积距离\n",
    "    output_fields=[\"text\"],  # 返回 text 字段\n",
    ")"
   ]
  },
  {
   "cell_type": "markdown",
   "id": "ffcce135",
   "metadata": {},
   "source": [
    "让我们看一下查询的搜索结果"
   ]
  },
  {
   "cell_type": "code",
   "execution_count": 30,
   "id": "6a7f6eb3",
   "metadata": {
    "tags": []
   },
   "outputs": [
    {
     "name": "stdout",
     "output_type": "stream",
     "text": [
      "[\n",
      "    [\n",
      "        \" Where does Milvus store data?\\n\\nMilvus deals with two types of data, inserted data and metadata. \\n\\nInserted data, including vector data, scalar data, and collection-specific schema, are stored in persistent storage as incremental log. Milvus supports multiple object storage backends, including [MinIO](https://min.io/), [AWS S3](https://aws.amazon.com/s3/?nc1=h_ls), [Google Cloud Storage](https://cloud.google.com/storage?hl=en#object-storage-for-companies-of-all-sizes) (GCS), [Azure Blob Storage](https://azure.microsoft.com/en-us/products/storage/blobs), [Alibaba Cloud OSS](https://www.alibabacloud.com/product/object-storage-service), and [Tencent Cloud Object Storage](https://www.tencentcloud.com/products/cos) (COS).\\n\\nMetadata are generated within Milvus. Each Milvus module has its own metadata that are stored in etcd.\\n\\n###\",\n",
      "        0.65726637840271\n",
      "    ],\n",
      "    [\n",
      "        \"How does Milvus flush data?\\n\\nMilvus returns success when inserted data are loaded to the message queue. However, the data are not yet flushed to the disk. Then Milvus' data node writes the data in the message queue to persistent storage as incremental logs. If `flush()` is called, the data node is forced to write all data in the message queue to persistent storage immediately.\\n\\n###\",\n",
      "        0.6312144994735718\n",
      "    ],\n",
      "    [\n",
      "        \"How does Milvus handle vector data types and precision?\\n\\nMilvus supports Binary, Float32, Float16, and BFloat16 vector types.\\n\\n- Binary vectors: Store binary data as sequences of 0s and 1s, used in image processing and information retrieval.\\n- Float32 vectors: Default storage with a precision of about 7 decimal digits. Even Float64 values are stored with Float32 precision, leading to potential precision loss upon retrieval.\\n- Float16 and BFloat16 vectors: Offer reduced precision and memory usage. Float16 is suitable for applications with limited bandwidth and storage, while BFloat16 balances range and efficiency, commonly used in deep learning to reduce computational requirements without significantly impacting accuracy.\\n\\n###\",\n",
      "        0.6115782260894775\n",
      "    ]\n",
      "]\n"
     ]
    }
   ],
   "source": [
    "import json\n",
    "\n",
    "retrieved_lines_with_distances = [\n",
    "    (res[\"entity\"][\"text\"], res[\"distance\"]) for res in search_res[0]\n",
    "]\n",
    "print(json.dumps(retrieved_lines_with_distances, indent=4))"
   ]
  },
  {
   "cell_type": "markdown",
   "id": "ccd4c186",
   "metadata": {},
   "source": [
    "### 使用 LLM 获取 RAG 响应"
   ]
  },
  {
   "cell_type": "markdown",
   "id": "4cd1ae3a",
   "metadata": {},
   "source": [
    "将检索到的文档转换为字符串格式。"
   ]
  },
  {
   "cell_type": "code",
   "execution_count": 31,
   "id": "0676448f",
   "metadata": {
    "tags": []
   },
   "outputs": [],
   "source": [
    "context = \"\\n\".join(\n",
    "    [line_with_distance[0] for line_with_distance in retrieved_lines_with_distances]\n",
    ")"
   ]
  },
  {
   "cell_type": "code",
   "execution_count": 32,
   "id": "107df42a-b3f7-48a8-b66b-fc82fe3ec174",
   "metadata": {
    "tags": []
   },
   "outputs": [
    {
     "data": {
      "text/plain": [
       "\" Where does Milvus store data?\\n\\nMilvus deals with two types of data, inserted data and metadata. \\n\\nInserted data, including vector data, scalar data, and collection-specific schema, are stored in persistent storage as incremental log. Milvus supports multiple object storage backends, including [MinIO](https://min.io/), [AWS S3](https://aws.amazon.com/s3/?nc1=h_ls), [Google Cloud Storage](https://cloud.google.com/storage?hl=en#object-storage-for-companies-of-all-sizes) (GCS), [Azure Blob Storage](https://azure.microsoft.com/en-us/products/storage/blobs), [Alibaba Cloud OSS](https://www.alibabacloud.com/product/object-storage-service), and [Tencent Cloud Object Storage](https://www.tencentcloud.com/products/cos) (COS).\\n\\nMetadata are generated within Milvus. Each Milvus module has its own metadata that are stored in etcd.\\n\\n###\\nHow does Milvus flush data?\\n\\nMilvus returns success when inserted data are loaded to the message queue. However, the data are not yet flushed to the disk. Then Milvus' data node writes the data in the message queue to persistent storage as incremental logs. If `flush()` is called, the data node is forced to write all data in the message queue to persistent storage immediately.\\n\\n###\\nHow does Milvus handle vector data types and precision?\\n\\nMilvus supports Binary, Float32, Float16, and BFloat16 vector types.\\n\\n- Binary vectors: Store binary data as sequences of 0s and 1s, used in image processing and information retrieval.\\n- Float32 vectors: Default storage with a precision of about 7 decimal digits. Even Float64 values are stored with Float32 precision, leading to potential precision loss upon retrieval.\\n- Float16 and BFloat16 vectors: Offer reduced precision and memory usage. Float16 is suitable for applications with limited bandwidth and storage, while BFloat16 balances range and efficiency, commonly used in deep learning to reduce computational requirements without significantly impacting accuracy.\\n\\n###\""
      ]
     },
     "execution_count": 32,
     "metadata": {},
     "output_type": "execute_result"
    }
   ],
   "source": [
    "context"
   ]
  },
  {
   "cell_type": "code",
   "execution_count": 33,
   "id": "19998758-7f98-4cb8-8789-625fcfaad00e",
   "metadata": {
    "tags": []
   },
   "outputs": [
    {
     "data": {
      "text/plain": [
       "'How is data stored in milvus?'"
      ]
     },
     "execution_count": 33,
     "metadata": {},
     "output_type": "execute_result"
    }
   ],
   "source": [
    "question"
   ]
  },
  {
   "cell_type": "markdown",
   "id": "7ad25756",
   "metadata": {},
   "source": [
    "为语言模型定义系统和用户提示。此提示是使用从 Milvus 检索到的文档组装而成的。"
   ]
  },
  {
   "cell_type": "code",
   "execution_count": 34,
   "id": "b655f6f3",
   "metadata": {
    "tags": []
   },
   "outputs": [],
   "source": [
    "SYSTEM_PROMPT = \"\"\"\n",
    "Human: 你是一个 AI 助手。你能够从提供的上下文段落片段中找到问题的答案。\n",
    "\"\"\"\n",
    "USER_PROMPT = f\"\"\"\n",
    "请使用以下用 <context> 标签括起来的信息片段来回答用 <question> 标签括起来的问题。最后追加原始回答的中文翻译，并用 <translated>和</translated> 标签标注。\n",
    "<context>\n",
    "{context}\n",
    "</context>\n",
    "<question>\n",
    "{question}\n",
    "</question>\n",
    "<translated>\n",
    "</translated>\n",
    "\"\"\""
   ]
  },
  {
   "cell_type": "code",
   "execution_count": 35,
   "id": "97089c31-f85c-47a9-8498-78520513bc67",
   "metadata": {
    "tags": []
   },
   "outputs": [
    {
     "data": {
      "text/plain": [
       "\"\\n请使用以下用 <context> 标签括起来的信息片段来回答用 <question> 标签括起来的问题。最后追加原始回答的中文翻译，并用 <translated>和</translated> 标签标注。\\n<context>\\n Where does Milvus store data?\\n\\nMilvus deals with two types of data, inserted data and metadata. \\n\\nInserted data, including vector data, scalar data, and collection-specific schema, are stored in persistent storage as incremental log. Milvus supports multiple object storage backends, including [MinIO](https://min.io/), [AWS S3](https://aws.amazon.com/s3/?nc1=h_ls), [Google Cloud Storage](https://cloud.google.com/storage?hl=en#object-storage-for-companies-of-all-sizes) (GCS), [Azure Blob Storage](https://azure.microsoft.com/en-us/products/storage/blobs), [Alibaba Cloud OSS](https://www.alibabacloud.com/product/object-storage-service), and [Tencent Cloud Object Storage](https://www.tencentcloud.com/products/cos) (COS).\\n\\nMetadata are generated within Milvus. Each Milvus module has its own metadata that are stored in etcd.\\n\\n###\\nHow does Milvus flush data?\\n\\nMilvus returns success when inserted data are loaded to the message queue. However, the data are not yet flushed to the disk. Then Milvus' data node writes the data in the message queue to persistent storage as incremental logs. If `flush()` is called, the data node is forced to write all data in the message queue to persistent storage immediately.\\n\\n###\\nHow does Milvus handle vector data types and precision?\\n\\nMilvus supports Binary, Float32, Float16, and BFloat16 vector types.\\n\\n- Binary vectors: Store binary data as sequences of 0s and 1s, used in image processing and information retrieval.\\n- Float32 vectors: Default storage with a precision of about 7 decimal digits. Even Float64 values are stored with Float32 precision, leading to potential precision loss upon retrieval.\\n- Float16 and BFloat16 vectors: Offer reduced precision and memory usage. Float16 is suitable for applications with limited bandwidth and storage, while BFloat16 balances range and efficiency, commonly used in deep learning to reduce computational requirements without significantly impacting accuracy.\\n\\n###\\n</context>\\n<question>\\nHow is data stored in milvus?\\n</question>\\n<translated>\\n</translated>\\n\""
      ]
     },
     "execution_count": 35,
     "metadata": {},
     "output_type": "execute_result"
    }
   ],
   "source": [
    "USER_PROMPT"
   ]
  },
  {
   "cell_type": "markdown",
   "id": "184b457f",
   "metadata": {},
   "source": [
    "使用 DeepSeek 提供的 `deepseek-chat` 模型根据提示生成响应。"
   ]
  },
  {
   "cell_type": "code",
   "execution_count": 36,
   "id": "638a7561",
   "metadata": {
    "tags": []
   },
   "outputs": [
    {
     "name": "stdout",
     "output_type": "stream",
     "text": [
      "Milvus stores data in two main categories: inserted data and metadata.\n",
      "\n",
      "1. **Inserted Data** (including vector data, scalar data, and collection schemas) is stored as incremental logs in persistent storage. Supported storage backends include:\n",
      "   - MinIO\n",
      "   - AWS S3\n",
      "   - Google Cloud Storage (GCS)\n",
      "   - Azure Blob Storage\n",
      "   - Alibaba Cloud OSS\n",
      "   - Tencent Cloud Object Storage (COS)\n",
      "\n",
      "2. **Metadata** (generated internally by Milvus) is stored in etcd, with each module maintaining its own metadata.\n",
      "\n",
      "The flushing process involves:\n",
      "- Initial storage in a message queue upon insertion\n",
      "- Asynchronous writing to persistent storage by data nodes\n",
      "- Immediate persistence when `flush()` is called\n",
      "\n",
      "For vector data, Milvus supports:\n",
      "- Binary vectors (compact 0/1 storage)\n",
      "- Float32 (default, ~7 decimal precision)\n",
      "- Float16/BFloat16 (reduced precision for efficiency)\n",
      "\n",
      "<translated>\n",
      "Milvus以两种主要类型存储数据：插入数据和元数据。\n",
      "\n",
      "1. **插入数据**（包括向量数据、标量数据和集合模式）以增量日志形式存储在持久化存储中，支持的存储后端包括：\n",
      "   - MinIO\n",
      "   - AWS S3\n",
      "   - 谷歌云存储(GCS)\n",
      "   - Azure Blob存储\n",
      "   - 阿里云OSS\n",
      "   - 腾讯云对象存储(COS)\n",
      "\n",
      "2. **元数据**（由Milvus内部生成）存储在etcd中，每个模块维护自己的元数据。\n",
      "\n",
      "数据刷新流程：\n",
      "- 插入时先存入消息队列\n",
      "- 数据节点异步写入持久化存储\n",
      "- 调用`flush()`时立即持久化\n",
      "\n",
      "支持的向量数据类型：\n",
      "- 二进制向量（紧凑的0/1存储）\n",
      "- Float32（默认，约7位小数精度）\n",
      "- Float16/BFloat16（降低精度以提高效率）\n",
      "</translated>\n"
     ]
    }
   ],
   "source": [
    "response = deepseek_client.chat.completions.create(\n",
    "    model=\"deepseek-chat\",\n",
    "    messages=[\n",
    "        {\"role\": \"system\", \"content\": SYSTEM_PROMPT},\n",
    "        {\"role\": \"user\", \"content\": USER_PROMPT},\n",
    "    ],\n",
    ")\n",
    "print(response.choices[0].message.content)"
   ]
  },
  {
   "cell_type": "code",
   "execution_count": null,
   "id": "50ce3b55-7daa-4727-95bd-3b00f6aa2b03",
   "metadata": {},
   "outputs": [],
   "source": []
  }
 ],
 "metadata": {
  "kernelspec": {
   "display_name": "Python (deepseek)",
   "language": "python",
   "name": "deepseek_quickstart"
  },
  "language_info": {
   "codemirror_mode": {
    "name": "ipython",
    "version": 3
   },
   "file_extension": ".py",
   "mimetype": "text/x-python",
   "name": "python",
   "nbconvert_exporter": "python",
   "pygments_lexer": "ipython3",
   "version": "3.10.8"
  }
 },
 "nbformat": 4,
 "nbformat_minor": 5
}
